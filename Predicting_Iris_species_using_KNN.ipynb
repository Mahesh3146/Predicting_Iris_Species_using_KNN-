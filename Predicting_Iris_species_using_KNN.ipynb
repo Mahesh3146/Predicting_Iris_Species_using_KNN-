{
  "nbformat": 4,
  "nbformat_minor": 0,
  "metadata": {
    "colab": {
      "provenance": [],
      "collapsed_sections": []
    },
    "kernelspec": {
      "name": "python3",
      "display_name": "Python 3"
    },
    "language_info": {
      "name": "python"
    }
  },
  "cells": [
    {
      "cell_type": "code",
      "execution_count": null,
      "metadata": {
        "id": "2xyTo7mv8FTU"
      },
      "outputs": [],
      "source": [
        "# we are importing the libraries\n",
        "\n",
        "import numpy as np\n",
        "from sklearn import datasets       # we are taken the \"iris dataset \" from sklearn library\n",
        "from sklearn.neighbors import KNeighborsClassifier   # we are appling KNeighborsClassifier algorithm form sklearn library\n"
      ]
    },
    {
      "cell_type": "code",
      "source": [
        "iris = datasets.load_iris()   #loading the iris data from datasets\n"
      ],
      "metadata": {
        "id": "NE-g1lyD9SQv"
      },
      "execution_count": null,
      "outputs": []
    },
    {
      "cell_type": "code",
      "source": [
        "i = np.random.permutation(len(iris.data)) # randomly taken the values"
      ],
      "metadata": {
        "id": "jquDig5q98y8"
      },
      "execution_count": null,
      "outputs": []
    },
    {
      "cell_type": "code",
      "source": [
        "x = iris.data  # x is stored the features of iris data\n",
        "y = iris.target  # y is stored the target of iris data"
      ],
      "metadata": {
        "id": "XZXP8DIR-qZt"
      },
      "execution_count": null,
      "outputs": []
    },
    {
      "cell_type": "code",
      "source": [
        "# spliting the iris data into training set and testing \n",
        "\n",
        "x_train = x[i[:-10]] \n",
        "y_train = y[i[:-10]]\n",
        "x_test = x[i[-10:]]\n",
        "y_test = y[i[-10:]]"
      ],
      "metadata": {
        "id": "kLym1N2e-wEC"
      },
      "execution_count": null,
      "outputs": []
    },
    {
      "cell_type": "code",
      "source": [
        "# we are storing the KNeighborsClassifier algorithm in to knn variable\n",
        "\n",
        "knn = KNeighborsClassifier()\n"
      ],
      "metadata": {
        "id": "AJy4feuB_AGD"
      },
      "execution_count": null,
      "outputs": []
    },
    {
      "cell_type": "code",
      "source": [
        "# training the model\n",
        "\n",
        "knn.fit(x_train,y_train)"
      ],
      "metadata": {
        "colab": {
          "base_uri": "https://localhost:8080/"
        },
        "id": "ZzH9LWBn_JBU",
        "outputId": "84a4c617-4f0a-4bea-f891-cb67be2ca5ce"
      },
      "execution_count": null,
      "outputs": [
        {
          "output_type": "execute_result",
          "data": {
            "text/plain": [
              "KNeighborsClassifier()"
            ]
          },
          "metadata": {},
          "execution_count": 11
        }
      ]
    },
    {
      "cell_type": "code",
      "source": [
        "#predicting the model\n",
        "\n",
        "y_predict = knn.predict(x_test)"
      ],
      "metadata": {
        "id": "2gs2qwr2_Ngb"
      },
      "execution_count": null,
      "outputs": []
    },
    {
      "cell_type": "code",
      "source": [
        "y_test"
      ],
      "metadata": {
        "colab": {
          "base_uri": "https://localhost:8080/"
        },
        "id": "Wb85vXzH_Tnr",
        "outputId": "a4ccaa5d-b38f-4a9c-aded-4c584dce4b4f"
      },
      "execution_count": null,
      "outputs": [
        {
          "output_type": "execute_result",
          "data": {
            "text/plain": [
              "array([2, 0, 1, 2, 0, 1, 2, 1, 2, 2])"
            ]
          },
          "metadata": {},
          "execution_count": 16
        }
      ]
    },
    {
      "cell_type": "code",
      "source": [
        "# model performance \n",
        "\n",
        "from sklearn.metrics import accuracy_score"
      ],
      "metadata": {
        "id": "1izaeRmu_XWD"
      },
      "execution_count": null,
      "outputs": []
    },
    {
      "cell_type": "code",
      "source": [
        "accuracy_score(y_test,y_predict)"
      ],
      "metadata": {
        "colab": {
          "base_uri": "https://localhost:8080/"
        },
        "id": "HexYRGPg_ghL",
        "outputId": "83f04822-4de2-4364-f523-52ff5595ae69"
      },
      "execution_count": null,
      "outputs": [
        {
          "output_type": "execute_result",
          "data": {
            "text/plain": [
              "0.9"
            ]
          },
          "metadata": {},
          "execution_count": 19
        }
      ]
    },
    {
      "cell_type": "code",
      "source": [],
      "metadata": {
        "id": "bVFzVZzF_ok7"
      },
      "execution_count": null,
      "outputs": []
    }
  ]
}